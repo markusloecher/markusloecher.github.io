{
 "cells": [
  {
   "cell_type": "markdown",
   "metadata": {},
   "source": [
    "### Efficient Partial Dependence Plots with decision trees\n",
    "\n",
    "\n",
    "By now, I am pretty sure that the original description of the algorithm in the Friedman paper is incorrect (also observed by the author of the stackoverflow question).\n",
    "By following only one child of splits on $X_0$ one computes conditional PDPs and not interventional PDPs.\n",
    "I do not believe it possible to compute the latter with just one pass through the tree, it requires a full pass of the entire training data. \n",
    "The only speedup that my proposed algorithm offers is that one full pass is sufficient for all values of $X_0$!\n",
    "And to achieve that, one has to follow both children of $X_0$.\n",
    "\n",
    "Why do we need to pass all data? Because the splits on $X_C$ can be very different depending on the $X_0$ condition due to **correlations among the features**.\n",
    "The following shows a simple extreme example to illustrate this point.\n"
   ]
  },
  {
   "cell_type": "markdown",
   "metadata": {},
   "source": [
    "## Conditional versus Interventional\n",
    "\n",
    "Both in his [paper](https://jerryfriedman.su.domains/ftp/trebst.pdf) and in the ESLII book, Friedman elaborates on how the **conditional** $E[f(x_S,X_C)|X_S=x_s]$ is different from the **interventional** $E[f(x_S,X_C)| \\mathbf{do}(X_S=x_s)]$.\n",
    "\n",
    "### Correlated Features\n",
    "\n",
    "I will use a data set with just two binary features $X_{0,1}$ but strong correlations to illustrate the issues:\n",
    "\n",
    "$$\n",
    "P( X_1 = 1 | X_0 = 0) = 0.2, P( X_1 = 1 | X_0 = 1) = 0.8\n",
    "$$"
   ]
  },
  {
   "cell_type": "markdown",
   "metadata": {},
   "source": [
    "For $Y$ we somewhat randomly choose the following:\n",
    "$$\n",
    "E(Y | X_1 = 0, X_0 = 0) = 0.3, E(Y | X_1 = 1, X_0 = 0) = 0.7\n",
    "$$\n",
    "$$\n",
    "E(Y | X_1 = 0, X_0 = 1) = 0.9, E(Y | X_1 = 1, X_0 = 1) = 0.1\n",
    "$$"
   ]
  },
  {
   "cell_type": "code",
   "execution_count": 1,
   "metadata": {},
   "outputs": [],
   "source": [
    "#import seaborn\n",
    "from sklearn.tree import DecisionTreeRegressor\n",
    "from sklearn import tree\n",
    "import matplotlib.pyplot as plt\n",
    "import numpy as np\n",
    "import pandas as pd\n",
    "from sklearn.inspection import PartialDependenceDisplay, partial_dependence"
   ]
  },
  {
   "cell_type": "markdown",
   "metadata": {},
   "source": [
    "Generate the data"
   ]
  },
  {
   "cell_type": "code",
   "execution_count": 55,
   "metadata": {},
   "outputs": [
    {
     "data": {
      "text/html": [
       "<div>\n",
       "<style scoped>\n",
       "    .dataframe tbody tr th:only-of-type {\n",
       "        vertical-align: middle;\n",
       "    }\n",
       "\n",
       "    .dataframe tbody tr th {\n",
       "        vertical-align: top;\n",
       "    }\n",
       "\n",
       "    .dataframe thead th {\n",
       "        text-align: right;\n",
       "    }\n",
       "</style>\n",
       "<table border=\"1\" class=\"dataframe\">\n",
       "  <thead>\n",
       "    <tr style=\"text-align: right;\">\n",
       "      <th>X1</th>\n",
       "      <th>0.0</th>\n",
       "      <th>1.0</th>\n",
       "    </tr>\n",
       "    <tr>\n",
       "      <th>X0</th>\n",
       "      <th></th>\n",
       "      <th></th>\n",
       "    </tr>\n",
       "  </thead>\n",
       "  <tbody>\n",
       "    <tr>\n",
       "      <th>0.0</th>\n",
       "      <td>160</td>\n",
       "      <td>40</td>\n",
       "    </tr>\n",
       "    <tr>\n",
       "      <th>1.0</th>\n",
       "      <td>40</td>\n",
       "      <td>160</td>\n",
       "    </tr>\n",
       "  </tbody>\n",
       "</table>\n",
       "</div>"
      ],
      "text/plain": [
       "X1   0.0  1.0\n",
       "X0           \n",
       "0.0  160   40\n",
       "1.0   40  160"
      ]
     },
     "execution_count": 55,
     "metadata": {},
     "output_type": "execute_result"
    }
   ],
   "source": [
    "#first X:\n",
    "# \n",
    "N = 400; p0 = 0.5; p11 = 0.8; M=2\n",
    "X = np.zeros((N,M)) # a matrix (N * M)\n",
    "N1 = int(p0*N)\n",
    "X[0:N1,0] = 1\n",
    "X[0:int(p11*N1),1] = 1\n",
    "X[N1:(N1+int((1-p11)*(N-N1))+1),1] = 1\n",
    "df = pd.DataFrame(X, columns=[\"X0\", \"X1\"])\n",
    "##double check:\n",
    "pd.crosstab(df['X0'],df['X1'])"
   ]
  },
  {
   "cell_type": "code",
   "execution_count": 56,
   "metadata": {},
   "outputs": [],
   "source": [
    "#then Y:\n",
    "# \n",
    "# y = np.zeros(N)\n",
    "#E(Y | X_1 = 0, X_0 = 0) = 0.3\n",
    "y[(X[:,0] == 0) & (X[:,1] == 0)] = 0.3\n",
    "#E(Y | X_1 = 1, X_0 = 0) = 0.7\n",
    "y[(X[:,0] == 0) & (X[:,1] == 1)] = 0.7\n",
    "#E(Y | X_1 = 0, X_0 = 1) = 0.9 \n",
    "y[(X[:,0] == 1) & (X[:,1] == 0)] = 0.9\n",
    "#E(Y | X_1 = 1, X_0 = 1) = 0.1\n",
    "y[(X[:,0] == 1) & (X[:,1] == 1)] = 0.1\n",
    "\n",
    "#y = y + np.random.normal(0, 0.01, N)"
   ]
  },
  {
   "cell_type": "code",
   "execution_count": 57,
   "metadata": {},
   "outputs": [
    {
     "data": {
      "text/html": [
       "<div>\n",
       "<style scoped>\n",
       "    .dataframe tbody tr th:only-of-type {\n",
       "        vertical-align: middle;\n",
       "    }\n",
       "\n",
       "    .dataframe tbody tr th {\n",
       "        vertical-align: top;\n",
       "    }\n",
       "\n",
       "    .dataframe thead th {\n",
       "        text-align: right;\n",
       "    }\n",
       "</style>\n",
       "<table border=\"1\" class=\"dataframe\">\n",
       "  <thead>\n",
       "    <tr style=\"text-align: right;\">\n",
       "      <th></th>\n",
       "      <th></th>\n",
       "      <th>y</th>\n",
       "    </tr>\n",
       "    <tr>\n",
       "      <th>X0</th>\n",
       "      <th>X1</th>\n",
       "      <th></th>\n",
       "    </tr>\n",
       "  </thead>\n",
       "  <tbody>\n",
       "    <tr>\n",
       "      <th rowspan=\"2\" valign=\"top\">0.0</th>\n",
       "      <th>0.0</th>\n",
       "      <td>0.3</td>\n",
       "    </tr>\n",
       "    <tr>\n",
       "      <th>1.0</th>\n",
       "      <td>0.7</td>\n",
       "    </tr>\n",
       "    <tr>\n",
       "      <th rowspan=\"2\" valign=\"top\">1.0</th>\n",
       "      <th>0.0</th>\n",
       "      <td>0.9</td>\n",
       "    </tr>\n",
       "    <tr>\n",
       "      <th>1.0</th>\n",
       "      <td>0.1</td>\n",
       "    </tr>\n",
       "  </tbody>\n",
       "</table>\n",
       "</div>"
      ],
      "text/plain": [
       "           y\n",
       "X0  X1      \n",
       "0.0 0.0  0.3\n",
       "    1.0  0.7\n",
       "1.0 0.0  0.9\n",
       "    1.0  0.1"
      ]
     },
     "execution_count": 57,
     "metadata": {},
     "output_type": "execute_result"
    }
   ],
   "source": [
    "##double check:\n",
    "df = pd.DataFrame(X, columns=[\"X0\", \"X1\"])\n",
    "df[\"y\"] = y\n",
    "df.groupby(['X0', 'X1']).mean()"
   ]
  },
  {
   "cell_type": "code",
   "execution_count": 58,
   "metadata": {},
   "outputs": [
    {
     "data": {
      "image/png": "[encoded data removed]",
      "text/plain": [
       "<Figure size 640x480 with 1 Axes>"
      ]
     },
     "metadata": {},
     "output_type": "display_data"
    }
   ],
   "source": [
    "model = DecisionTreeRegressor(max_depth=2, max_features = 2)\n",
    "model.fit(df[[\"X0\",\"X1\"]], y);\n",
    "tree.plot_tree(model);"
   ]
  },
  {
   "cell_type": "markdown",
   "metadata": {},
   "source": [
    "Since the tree split on $X_1$ first, the partial dependence values computed by `partial_dependence` will be different for $X_1$ if we shoose brute search versus `method = \"recursion\"`:"
   ]
  },
  {
   "cell_type": "code",
   "execution_count": 63,
   "metadata": {},
   "outputs": [
    {
     "name": "stdout",
     "output_type": "stream",
     "text": [
      "X1 brute (interventional): [[0.6 0.4]]\n",
      "X1 recursion (conditional): [[0.42 0.22]]\n"
     ]
    }
   ],
   "source": [
    "features = [\"X1\"]\n",
    "for f in features:\n",
    "    pdp_interventional = partial_dependence(model, df[[\"X0\",\"X1\"]], f,method = \"brute\")\n",
    "    pdp_conditional = partial_dependence(model, df[[\"X0\",\"X1\"]], f,method = \"recursion\")\n",
    "    \n",
    "    print(f, \"brute (interventional):\", pdp_interventional['average'])\n",
    "    print(f, \"recursion (conditional):\", pdp_conditional['average'])"
   ]
  },
  {
   "cell_type": "markdown",
   "metadata": {},
   "source": [
    "When we set `method = \"recursion\"` we get $E[f(X_S,X_C)|X_S=x_s]$ which is simply the average prediction on the **subset**  of terminal nodes reached by the conditional data!"
   ]
  }
 ],
 "metadata": {
  "kernelspec": {
   "display_name": "aug_hs_env",
   "language": "python",
   "name": "python3"
  },
  "language_info": {
   "codemirror_mode": {
    "name": "ipython",
    "version": 3
   },
   "file_extension": ".py",
   "mimetype": "text/x-python",
   "name": "python",
   "nbconvert_exporter": "python",
   "pygments_lexer": "ipython3",
   "version": "3.9.0"
  },
  "orig_nbformat": 4
 },
 "nbformat": 4,
 "nbformat_minor": 2
}
